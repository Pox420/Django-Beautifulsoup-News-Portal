{
 "cells": [
  {
   "cell_type": "code",
   "execution_count": 1,
   "metadata": {},
   "outputs": [],
   "source": [
    "from bs4 import BeautifulSoup as bs\n",
    "import requests\n",
    "\n",
    "URL = 'https://kathmandupost.com/'\n",
    "r = requests.get(URL)\n",
    "soup = bs(r.text, 'html.parser')"
   ]
  },
  {
   "cell_type": "code",
   "execution_count": 2,
   "metadata": {},
   "outputs": [],
   "source": [
    "main =soup.find(\"div\", {\"id\": \"mainContent\"}).find('main').find('div', {'class': 'order'}).find_all('div')[0:2]\n",
    "homepage_url = []\n",
    "\n",
    "for i in main:\n",
    "    links = i.find_all('article')\n",
    "    for j in links:\n",
    "        link = 'https://kathmandupost.com' +j.find('h3').find('a').get('href')\n",
    "        homepage_url.append(link)\n"
   ]
  },
  {
   "cell_type": "code",
   "execution_count": 3,
   "metadata": {},
   "outputs": [
    {
     "data": {
      "text/plain": [
       "['https://kathmandupost.com/art-culture/2021/12/17/the-accidental-archiver',\n",
       " 'https://kathmandupost.com/health/2021/12/17/covid-jabs-to-be-given-from-over-16-000-immunisation-centres-across-the-country',\n",
       " 'https://kathmandupost.com/gandaki-province/2021/12/17/shrines-rebuilding-handed-over-to-archaelogy-department',\n",
       " 'https://kathmandupost.com/national/2021/12/17/four-years-on-government-keeps-lal-commission-report-secret']"
      ]
     },
     "execution_count": 3,
     "metadata": {},
     "output_type": "execute_result"
    }
   ],
   "source": [
    "homepage_url"
   ]
  },
  {
   "cell_type": "code",
   "execution_count": 4,
   "metadata": {},
   "outputs": [],
   "source": [
    "page_details = []\n",
    "for home in homepage_url:\n",
    "    r = requests.get(home)\n",
    "    soup = bs(r.text, 'html.parser')\n",
    "    title = soup.find('title').text\n",
    "    try:\n",
    "        image_link = soup.find('main').find('div', {'class': 'col-sm-12'}).find('img').get('src')\n",
    "    except:\n",
    "        image_link = soup.find('main').find('div', {'class': 'col-sm-8'}).find('img').get('src')\n",
    "    try:\n",
    "        sub_title = soup.find('main').find('div', {'class': 'col-sm-12'}).find('span').text\n",
    "    except:\n",
    "        sub_title = soup.find('main').find('div', {'class': 'col-sm-8'}).find('span').text\n",
    "    try:\n",
    "        main_content = soup.find('main').find('div', {'class': 'col-sm-12'}).find('section').text\n",
    "    except:\n",
    "        main_content = soup.find('main').find('div', {'class': 'col-sm-8'}).find('section').text\n",
    "    # print(title, image_link, sub_title, main_content)\n",
    "    detail = {\n",
    "        'title': title,\n",
    "        'image_link': image_link,\n",
    "        'sub_title': sub_title,\n",
    "        'main_content': main_content\n",
    "    }\n",
    "    page_details.append(detail)\n",
    "    # print(soup.find('main').find('div', {'class': 'col-sm-8'}).find('section').text)"
   ]
  },
  {
   "cell_type": "code",
   "execution_count": 5,
   "metadata": {},
   "outputs": [],
   "source": [
    "import pandas as pd\n",
    "\n",
    "df = pd.DataFrame(page_details)\n",
    "df.to_csv('kathmandu_post.csv')"
   ]
  },
  {
   "cell_type": "code",
   "execution_count": 6,
   "metadata": {},
   "outputs": [
    {
     "name": "stdout",
     "output_type": "stream",
     "text": [
      "The accidental archiver\n",
      "https://jcss-cdn.kathmandupost.com/assets/images/lazy.png\n",
      "On his journey to become a sports photojournalist, Shyam Chitrakar accidentally curated possibly the largest—and most probably the only—sports archive in the country. \n",
      "A cupboard full of old VHS tapes. Dusty piles of negatives stacked on top of each other in a corner. A rusty brown chest with four drawers filled with audiovisual cassettes. An old TV and VHS player in the company of three LCD desktops. These sit silently in a dimly lit room in Shyam Chitakar’s office in Bagbazar, as the hustle and bustle in the streets continue outside.“There are thousands of photos and videos here from the first national game in 1982 to every South Asian Football Federation (SAFF) Championship and South Asian Games (SAG) to date. I start getting dizzy if I keep looking at all of this,” Shyam Chitrakar said as he points at the stack of VHS tapes on the cupboard. At 80, Chitrakar considers his sports archive content his life’s most prized possession. He began documenting the Nepali sports scene in the 1970s—and continues doing so to date. He had a peculiar habit of capturing moments and swiftly storing them away in cassette tapes and reels, he said. But little did he know this habit of his would someday make the largest—and most probably the only—sports archive in the country.“I am an accidental archiver. It just happened,” he chuckled as he sat down for this interview on a Sunday afternoon. “As my collection grew, I realised that the archive could serve a purpose in the future. Then I started preserving my works.”A sports photojournalist by profession, Chitrakar began his career as a footballer for the Mahabir Club.He was one of the few people during those days to have a video camera. He would occasionally click photos and videos. But back then, there were few photography workshops or classes so people usually learnt the technical know-hows through guidance from other established photographers. Chitrakar credits Nepal’s first cinematographer and his brother-in-law, the late Bakhat Bahadur Chitrakar, for guiding him and teaching him photography skills. “I did not receive any formal training. I learned everything from my brother-in-law. It was a learning-by-doing situation,” he said.After retiring from football in 1985, he got an offer to work for Nepal Television (NTV). “I was the first cameraperson for the NTV. We got to cover the King Birendra's visit to Australia and broadcast it instantly for the audience in Nepal for the first time,” Chitrakar recalled. Chitrakar started doing sports photography and videography for Nepal Television simultaneously. Over the years, he covered various subjects—from politics to lifestyle to sports. And he has archived most of his works. “If our future generation wants to watch Hora Prasad Joshi’s interview, I have it. Or any of Sharad Chandra Shah’s sports-related activities. Or interviews of Sita Rai or Baikuntha Manandhar—Nepal’s three-times gold medalist in the SAG. I have interviews and activities of almost all Nepali Olympic athletes such as Deepak Bista and Sangina Baidya,” said Chitrakar. Joshi served as home minister in the BP Koirala government in the late 1950s. He later was involved in drafting King Mahendra’s constitution in 1962 after the 1960 royal coup. Shah served as the chair of the National Sports Council. As a former athlete himself, Chitrakar believes that the media can bring the stories and triumphs of athletes to the limelight, which he believes will inspire and motivate them. He fondly recalls an incident when he read a news article about his football skills in Gorkhapatra when he was still an active athlete. “Players like Komal Pandey [one of the veteran sportspersons of Nepal] and Achyut Krishna Kharel [former inspector general of Nepal Police] were big names back then. I was taken aback to see my name along with theirs in the paper. The article described how I dodged my opponents and won accolades from the audience. It inspired me,” he said with a faint smile. \n"
     ]
    }
   ],
   "source": [
    "page_details\n",
    "for i in page_details:\n",
    "    print(i['title'])\n",
    "    print(i['image_link'])\n",
    "    print(i['sub_title'])\n",
    "    print(i['main_content'])\n",
    "    break"
   ]
  },
  {
   "cell_type": "code",
   "execution_count": null,
   "metadata": {},
   "outputs": [],
   "source": []
  },
  {
   "cell_type": "code",
   "execution_count": null,
   "metadata": {},
   "outputs": [],
   "source": []
  }
 ],
 "metadata": {
  "interpreter": {
   "hash": "916dbcbb3f70747c44a77c7bcd40155683ae19c65e1c03b4aa3499c5328201f1"
  },
  "kernelspec": {
   "display_name": "Python 3.8.10 64-bit",
   "language": "python",
   "name": "python3"
  },
  "language_info": {
   "codemirror_mode": {
    "name": "ipython",
    "version": 3
   },
   "file_extension": ".py",
   "mimetype": "text/x-python",
   "name": "python",
   "nbconvert_exporter": "python",
   "pygments_lexer": "ipython3",
   "version": "3.8.10"
  },
  "orig_nbformat": 4
 },
 "nbformat": 4,
 "nbformat_minor": 2
}
