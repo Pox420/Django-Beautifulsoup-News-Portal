{
 "cells": [
  {
   "cell_type": "code",
   "execution_count": 1,
   "metadata": {},
   "outputs": [],
   "source": [
    "from bs4 import BeautifulSoup as bs\n",
    "import requests\n",
    "\n",
    "URL = 'https://kathmandupost.com/'\n",
    "r = requests.get(URL)\n",
    "soup = bs(r.text, 'html.parser')"
   ]
  },
  {
   "cell_type": "code",
   "execution_count": 2,
   "metadata": {},
   "outputs": [],
   "source": [
    "# main =soup.find(\"div\", {\"id\": \"mainContent\"}).find('main').find('div', {'class': 'order'}).find_all('div')[0:2]\n",
    "# homepage_url = []\n",
    "\n",
    "# for i in main:\n",
    "#     links = i.find_all('article')\n",
    "#     for j in links:\n",
    "#         link = 'https://kathmandupost.com' +j.find('h3').find('a').get('href')\n",
    "#         homepage_url.append(link)\n"
   ]
  },
  {
   "cell_type": "code",
   "execution_count": 3,
   "metadata": {},
   "outputs": [],
   "source": [
    "# new try for soup\n",
    "try:\n",
    "    homepage_url = []\n",
    "    articles = soup.find_all('article')\n",
    "    for art in articles:\n",
    "        link = 'https://kathmandupost.com' +art.find('a').get('href')\n",
    "        homepage_url.append(link)\n",
    "except:\n",
    "    main =soup.find(\"div\", {\"id\": \"mainContent\"}).find('main').find('div', {'class': 'order'}).find_all('div')[0:2]\n",
    "    homepage_url = []\n",
    "\n",
    "    for i in main:\n",
    "        links = i.find_all('article')\n",
    "        for j in links:\n",
    "            link = 'https://kathmandupost.com' +j.find('h3').find('a').get('href')\n",
    "            homepage_url.append(link)"
   ]
  },
  {
   "cell_type": "code",
   "execution_count": 4,
   "metadata": {},
   "outputs": [],
   "source": [
    "if len(homepage_url) > 5 and len(homepage_url) < 10:\n",
    "    legh = len(homepage_url)/5\n",
    "    homepage_url = homepage_url[0:int(legh)]\n",
    "elif len(homepage_url) > 10 and len(homepage_url) < 20:\n",
    "    legh = len(homepage_url)/10\n",
    "    homepage_url = homepage_url[0:int(legh)]\n",
    "elif len(homepage_url) > 20 and len(homepage_url) < 30:\n",
    "    legh = len(homepage_url)/20\n",
    "    homepage_url = homepage_url[0:int(legh)]\n",
    "elif len(homepage_url) > 30:\n",
    "    legh = len(homepage_url)/30\n",
    "    homepage_url = homepage_url[0:int(legh)]\n",
    "else:\n",
    "    homepage_url = homepage_url\n"
   ]
  },
  {
   "cell_type": "code",
   "execution_count": 5,
   "metadata": {},
   "outputs": [],
   "source": [
    "page_details = []\n",
    "for home in homepage_url:\n",
    "    r = requests.get(home)\n",
    "    soup = bs(r.text, 'html.parser')\n",
    "    title = soup.find('title').text\n",
    "    try:\n",
    "        image_link = soup.find('main').find('div', {'class': 'col-sm-12'}).find('img').get('src')\n",
    "    except:\n",
    "        image_link = soup.find('main').find('div', {'class': 'col-sm-8'}).find('img').get('src')\n",
    "    try:\n",
    "        sub_title = soup.find('main').find('div', {'class': 'col-sm-12'}).find('span').text\n",
    "    except:\n",
    "        sub_title = soup.find('main').find('div', {'class': 'col-sm-8'}).find('span').text\n",
    "    try:\n",
    "        main_content = soup.find('main').find('div', {'class': 'col-sm-12'}).find('section').text\n",
    "    except:\n",
    "        main_content = soup.find('main').find('div', {'class': 'col-sm-8'}).find('section').text\n",
    "    # print(title, image_link, sub_title, main_content)\n",
    "    detail = {\n",
    "        'title': title,\n",
    "        'image_link': image_link,\n",
    "        'sub_title': sub_title,\n",
    "        'main_content': main_content\n",
    "    }\n",
    "    page_details.append(detail)\n",
    "    # print(soup.find('main').find('div', {'class': 'col-sm-8'}).find('section').text)"
   ]
  },
  {
   "cell_type": "code",
   "execution_count": 6,
   "metadata": {},
   "outputs": [
    {
     "name": "stdout",
     "output_type": "stream",
     "text": [
      "                                               title  \\\n",
      "0   Nepal reports 158 new Covid-19 cases, two deaths   \n",
      "1  Karnali government’s programmes prove too ambi...   \n",
      "\n",
      "                                          image_link  \\\n",
      "0  https://jcss-cdn.kathmandupost.com/assets/imag...   \n",
      "1  https://jcss-cdn.kathmandupost.com/assets/imag...   \n",
      "\n",
      "                                           sub_title  \\\n",
      "0  According to the Health Ministry, the countryw...   \n",
      "1  Lack of clarity, miscommunication, geographica...   \n",
      "\n",
      "                                        main_content  \n",
      "0  Nepal on Saturday reported 158 new coronavirus...  \n",
      "1  Since its formation in 2017, the Karnali provi...  \n"
     ]
    }
   ],
   "source": [
    "import pandas as pd\n",
    "\n",
    "df = pd.DataFrame(page_details)\n",
    "print(df)\n",
    "df.to_csv('kathmandu_post.csv')"
   ]
  },
  {
   "cell_type": "code",
   "execution_count": 7,
   "metadata": {},
   "outputs": [
    {
     "name": "stdout",
     "output_type": "stream",
     "text": [
      "Nepal reports 158 new Covid-19 cases, two deaths\n",
      "https://jcss-cdn.kathmandupost.com/assets/images/lazy.png\n",
      "According to the Health Ministry, the countrywide death toll has now reached 11,572 and the number of active cases stands at 5,428. \n",
      "Nepal on Saturday reported 158 new coronavirus cases in the last 24 hours taking the nationwide infection tally to 825,603.Similarly, 31 people tested positive in a total of 2,514 antigen tests, according to the Health Ministry.As of Saturday, 4,764,202 PCR and 778,051 antigen tests have been carried out across the country.A total of 5,483 PCR tests were performed in the past 24 hours, according to the Health Ministry.In its regular situation report, the ministry did not mention the death toll over the past 24 hours. It, however, reported two Covid-19-related fatalities.The countrywide death toll has now reached 11,572. The number of active cases stands at 5,428.According to the ministry, 808,603 infected people have recovered from the disease so far; 250 of them in the last 24 hours.Kathmandu Valley recorded 110 new infections in the past 24 hours. Of these, 75 cases were confirmed in Kathmandu, 26 in Lalitpur and nine in Bhaktapur.In the past 24 hours, nine new infections were recorded in Province 1, five in Province 2, 119 in Bagmati, six in Gandaki, 18 in Lumbini and four in Sudurpaschim.On Saturday, 106 individuals infected with the virus were being treated in intensive care units across the country. Another 24—four in Province 1, 18 in Bagmati and two in Lumbini—were on ventilator support.Nepal on Friday reported 269 new coronavirus cases and three deaths. Similarly, 160 new coronavirus cases and two deaths were reported on Thursday and 252 new coronavirus cases and six deaths were recorded on Wednesday.Track all Covid-19 cases in Nepal here.  \n"
     ]
    }
   ],
   "source": [
    "page_details\n",
    "for i in page_details:\n",
    "    print(i['title'])\n",
    "    print(i['image_link'])\n",
    "    print(i['sub_title'])\n",
    "    print(i['main_content'])\n",
    "    break"
   ]
  },
  {
   "cell_type": "code",
   "execution_count": null,
   "metadata": {},
   "outputs": [],
   "source": []
  }
 ],
 "metadata": {
  "interpreter": {
   "hash": "916dbcbb3f70747c44a77c7bcd40155683ae19c65e1c03b4aa3499c5328201f1"
  },
  "kernelspec": {
   "display_name": "Python 3.8.10 64-bit",
   "language": "python",
   "name": "python3"
  },
  "language_info": {
   "codemirror_mode": {
    "name": "ipython",
    "version": 3
   },
   "file_extension": ".py",
   "mimetype": "text/x-python",
   "name": "python",
   "nbconvert_exporter": "python",
   "pygments_lexer": "ipython3",
   "version": "3.8.10"
  },
  "orig_nbformat": 4
 },
 "nbformat": 4,
 "nbformat_minor": 2
}
