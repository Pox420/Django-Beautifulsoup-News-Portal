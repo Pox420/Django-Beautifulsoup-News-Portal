{
 "cells": [
  {
   "cell_type": "code",
   "execution_count": 8,
   "metadata": {},
   "outputs": [],
   "source": [
    "from bs4 import BeautifulSoup as bs\n",
    "import requests\n",
    "\n",
    "URL = 'https://kathmandupost.com/'\n",
    "r = requests.get(URL)\n",
    "soup = bs(r.text, 'html.parser')"
   ]
  },
  {
   "cell_type": "code",
   "execution_count": 10,
   "metadata": {},
   "outputs": [],
   "source": [
    "# new try for soup\n",
    "try:\n",
    "    homepage_url = []\n",
    "    articles = soup.find_all('article')\n",
    "    for art in articles:\n",
    "        link = 'https://kathmandupost.com' +art.find('a').get('href')\n",
    "        homepage_url.append(link)\n",
    "except:\n",
    "    main =soup.find(\"div\", {\"id\": \"mainContent\"}).find('main').find('div', {'class': 'order'}).find_all('div')[0:2]\n",
    "    homepage_url = []\n",
    "\n",
    "    for i in main:\n",
    "        links = i.find_all('article')\n",
    "        for j in links:\n",
    "            link = 'https://kathmandupost.com' +j.find('h3').find('a').get('href')\n",
    "            homepage_url.append(link)"
   ]
  },
  {
   "cell_type": "code",
   "execution_count": 11,
   "metadata": {},
   "outputs": [],
   "source": [
    "if len(homepage_url) > 5 and len(homepage_url) < 10:\n",
    "    homepage_url = homepage_url\n",
    "elif len(homepage_url) > 10 and len(homepage_url) < 20:\n",
    "    legh = len(homepage_url)/2\n",
    "    homepage_url = homepage_url[0:int(legh)]\n",
    "elif len(homepage_url) > 20 and len(homepage_url) < 30:\n",
    "    legh = len(homepage_url)/3\n",
    "    homepage_url = homepage_url[0:int(legh)]\n",
    "elif len(homepage_url) > 30:\n",
    "    legh = len(homepage_url)/4\n",
    "    homepage_url = homepage_url[0:int(legh)]\n",
    "else:\n",
    "    homepage_url = homepage_url\n"
   ]
  },
  {
   "cell_type": "code",
   "execution_count": 12,
   "metadata": {},
   "outputs": [],
   "source": [
    "page_details = []\n",
    "for home in homepage_url:\n",
    "    r = requests.get(home)\n",
    "    soup = bs(r.text, 'html.parser')\n",
    "    title = soup.find('title').text\n",
    "    try:\n",
    "        image_link = soup.find('main').find('div', {'class': 'col-sm-12'}).find('img').get('src')\n",
    "    except:\n",
    "        image_link = soup.find('main').find('div', {'class': 'col-sm-8'}).find('img').get('src')\n",
    "    try:\n",
    "        sub_title = soup.find('main').find('div', {'class': 'col-sm-12'}).find('span').text\n",
    "    except:\n",
    "        sub_title = soup.find('main').find('div', {'class': 'col-sm-8'}).find('span').text\n",
    "    try:\n",
    "        main_content = soup.find('main').find('div', {'class': 'col-sm-12'}).find('section').text\n",
    "    except:\n",
    "        main_content = soup.find('main').find('div', {'class': 'col-sm-8'}).find('section').text\n",
    "    # print(title, image_link, sub_title, main_content)\n",
    "    detail = {\n",
    "        'title': title,\n",
    "        'image_link': image_link,\n",
    "        'sub_title': sub_title,\n",
    "        'main_content': main_content\n",
    "    }\n",
    "    page_details.append(detail)\n",
    "    # print(soup.find('main').find('div', {'class': 'col-sm-8'}).find('section').text)"
   ]
  },
  {
   "cell_type": "code",
   "execution_count": 13,
   "metadata": {},
   "outputs": [
    {
     "name": "stdout",
     "output_type": "stream",
     "text": [
      "                                                title  \\\n",
      "0   Nepal’s vaccination rate has slowed down despi...   \n",
      "1   In the UML, discontent is growing as party for...   \n",
      "2   Rukum (West) residents demand blood transfusio...   \n",
      "3   Food adulteration offences rise even during lo...   \n",
      "4   Plan to table MCC in Parliament set to charge ...   \n",
      "5   Food adulteration offences rise even during lo...   \n",
      "6                            Of politics and teachers   \n",
      "7                            Dams: Threat to big cats   \n",
      "8                                       Start jabbing   \n",
      "9              Congress votes to elect new leadership   \n",
      "10  Nepali Congress 14th general convention kicks ...   \n",
      "11  UML’s 10th national convention kicks off in Ch...   \n",
      "12  Protest march organised against Chief Justice ...   \n",
      "13      Bista-inspired MMC open two-point lead at top   \n",
      "14  In the UML, discontent is growing as party for...   \n",
      "\n",
      "                                           image_link  \\\n",
      "0   https://jcss-cdn.kathmandupost.com/assets/imag...   \n",
      "1   https://jcss-cdn.kathmandupost.com/assets/imag...   \n",
      "2   https://jcss-cdn.kathmandupost.com/assets/imag...   \n",
      "3   https://jcss-cdn.kathmandupost.com/assets/imag...   \n",
      "4   https://jcss-cdn.kathmandupost.com/assets/imag...   \n",
      "5   https://jcss-cdn.kathmandupost.com/assets/imag...   \n",
      "6   https://jcss-cdn.kathmandupost.com/assets/imag...   \n",
      "7   https://jcss-cdn.kathmandupost.com/assets/imag...   \n",
      "8   https://jcss-cdn.kathmandupost.com/assets/imag...   \n",
      "9   https://assets-cdn.kathmandupost.com/uploads/s...   \n",
      "10  https://assets-cdn.kathmandupost.com/uploads/s...   \n",
      "11  https://assets-cdn.kathmandupost.com/uploads/s...   \n",
      "12  https://assets-cdn.kathmandupost.com/uploads/s...   \n",
      "13  https://jcss-cdn.kathmandupost.com/assets/imag...   \n",
      "14  https://jcss-cdn.kathmandupost.com/assets/imag...   \n",
      "\n",
      "                                            sub_title  \\\n",
      "0   Authorities must figure out reasons and expedi...   \n",
      "1   Some who challenged Oli are failing to find po...   \n",
      "2   The district does not have a blood transfusion...   \n",
      "3   As long as consumers consider food adulteratio...   \n",
      "4   Deuba for moving the bill for its passage amid...   \n",
      "5   As long as consumers consider food adulteratio...   \n",
      "6   The history of overt and covert allegiances of...   \n",
      "7   Dams especially in conservation areas or areas...   \n",
      "8   Why is the government never prepared for anyth...   \n",
      "9   As many as 4,743 delegates are voting to elect...   \n",
      "10  More than 4,500 delegates will vote to elect n...   \n",
      "11  Prime Minister Deuba and leaders of some key p...   \n",
      "12  The joint protest march is organised by profes...   \n",
      "13  The captain scores twice in a 3-1 win over Pol...   \n",
      "14  Some who challenged Oli are failing to find po...   \n",
      "\n",
      "                                         main_content  \n",
      "0   Surya Lama, who hails from Barhabishe of Sindh...  \n",
      "1   On Friday, CPN-UML Secretary General Shanker P...  \n",
      "2   Nandaram Khadka, a resident of Tribeni Rural M...  \n",
      "3   Food adulteration is widespread in Nepal with ...  \n",
      "4   The Millennium Challenge Corporation appears s...  \n",
      "5   Food adulteration is widespread in Nepal with ...  \n",
      "6   Recently, a debate about the participation of ...  \n",
      "7   Big cats are among the most widespread top pre...  \n",
      "8   The vaccines have hardly reached the poorest c...  \n",
      "9   As many as 4,743 delegates from across the cou...  \n",
      "10  The 14th general convention of Nepali Congress...  \n",
      "11  The 10th national convention of the CPN-UML, t...  \n",
      "12  A joint protest march was organised in the Cap...  \n",
      "13  Captain Anjan Bista inspired Manang Marshyangd...  \n",
      "14  On Friday, CPN-UML Secretary General Shanker P...  \n"
     ]
    }
   ],
   "source": [
    "import pandas as pd\n",
    "\n",
    "df = pd.DataFrame(page_details)\n",
    "# print(df)\n",
    "# df.to_csv('kathmandu_post.csv')"
   ]
  },
  {
   "cell_type": "code",
   "execution_count": 14,
   "metadata": {},
   "outputs": [
    {
     "name": "stdout",
     "output_type": "stream",
     "text": [
      "Nepal’s vaccination rate has slowed down despite enough doses in stock\n",
      "https://jcss-cdn.kathmandupost.com/assets/images/lazy.png\n",
      "Authorities must figure out reasons and expedite immunisation pace so that as many people can be covered at the earliest, public health experts say. \n",
      "Surya Lama, who hails from Barhabishe of Sindhupalchok district, works as a mason at a construction site in Kathmandu. His wife Karuna, who underwent a uterus surgery a few months ago due to infection, is recovering.Both have not received Covid-19 vaccines yet.“I have to work from morning to evening to eke out a living,” said Lama, 36. “My wife could not reach the vaccination centre on her own, and I did not get the time to take her for vaccination.”He is not sure how big a risk there will be if he is exposed to the virus, he said. “I have heard of this Corona and also about vaccines,” he said, though. The Lamas appear to be few of those missing out on Covid-19 vaccines in urban centres. But there are concerns of many more people in rural areas not having received Covid-19 vaccines yet for multiple reasons, including a lack of awareness, inaccessibility or due to hesitancy. When Nepal managed to vaccinate 15 percent of its total population in September, the World Health Organisation’s South-East Asia office lauded the country for good management of the vaccination drive and its ability to vaccinate thousands of people in a short span of time.Though there were initial hiccups caused by shortages of doses, the vaccination campaign continued to pick up pace, as there was a steady flow of jabs. But lately, the drive seems to have slowed down. Data provided by the Ministry of Health and Population show that 9,582,496 people (31.5 percent of the total population) have been fully immunised as of Saturday.A comparison shows it took more than 100 days for the authorities to immunise an additional 15 percent of the total population, and around 55 days to administer vaccines to an additional 9 percent population (from 21.4 percent on October 17 to 30.4 percent on December 11).Vaccine scarcity was not an issue, as Nepal was receiving doses in millions on a regular basis. Experts say authorities have been using the same strategy—asking people to come to vaccination centres set up at the health facilities of districts in the initial stage of the drive. Authorities are not taking any extra initiatives to bring people to vaccination centres or make them aware of the need to get vaccinated, they say.With storage facilities filled to the brim, authorities have requested the vaccine providers, including the COVAX facility, to delay shipments.Public health experts say it’s unfortunate that the authorities have failed to scale up the vaccination drive and instead are asking for a slowdown in shipments.Nepal so far has received 31,195,090 doses of Covid-19 vaccines—Vero Cell, AstraZeneca, Janssen, Pfizer-BioNTech and Moderna, including an additional 1,457,650 doses delivered on Thursday from Germany.This suggests there are ample doses in stock to vaccinate a little over 6 million people almost immediately.Nepal needs to vaccinate around 78 percent of its over 30 million estimated population, or around 25 million people. Since 4-5 million Nepalis are said to be living abroad, the number of people who need to be vaccinated is estimated to be around 20 million. Experts say there is a need to ramp up vaccination and consider providing booster doses.“Instead of asking for delay in vaccine shipments, authorities should have used this window to vaccinate most of the people at the earliest,” Dr Biraj Karmacharya, an epidemiologist, told the Post. “Vaccinating the maximum number of people could save thousands of lives.”The Ministry of Health and Population said that “it has been doing its best” to vaccinate as many people as possible. Officials claimed that they have held meetings with provincial and local level officials and urged them to speed up the vaccination drive.Minister for Health and Population Birodh Khatiwada on Thursday had told the Post that vaccines will be administered from over 16,000 centres that have been used for immunising children as part of the monthly campaign. Along with this, the government is also providing vaccination facilities from schools, targeting those aged between 12 and 17 years.“We are also holding meetings with the chief district officers of all 77 districts throughout the country,” said Dr Roshan Pokhrel, secretary at the Ministry of Health and Population. “We will again request them to do everything to increase the coverage so that a maximum number of people could be vaccinated.”Doctors say the authorities must come up with new strategies to cover a maximum number of people. There could be multiple reasons for the vaccination pace slowing down, and authorities need to find out and act accordingly, they say. “Those who are aware of the importance of vaccines took the jabs when they got a chance,” said Dr Sher Bahadur Pun, chief of the Clinical Research Unit at the Sukraraj Tropical and Infectious Disease Hospital. “Authorities did not have to work hard to immunise those people. But there could be hundreds of thousands of people who may have missed out on the jabs for various reasons. Some might not be aware… others might not know the importance of getting vaccinated.”Along with inconveniences of time and place of vaccination, there could be some people who might be hesitant about taking the vaccine. The emergence of sceptics when there is a new vaccine or drug is a worldwide phenomenon. Authorities should use every means to debunk rumours, if they are being spread, by disseminating a clear and fact-based message about vaccines to the communities, doctors say.“Authorities should use every possible means, and possible persons—teachers, female community health volunteers, health workers, social workers, national level artists, politicians and political parties—to raise awareness about the vaccine and encourage people to get jabbed,” said Karmacharya, who is also the head of the Department of Community Programme. Scaling up the vaccination drive and launching booster doses are the common suggestions public health experts have been offering lately, especially in the wake of Omicron, the new iteration of the coronavirus which is said to be highly contagious. Its severity, however, is said to be milder, compared to Delta.The World Health Organisation said on Saturday the Omicron variant has been reported in 89 countries and the number of cases is doubling in 1.5 to 3 days in areas with community transmission.Nepal reported two Omicron cases last month, but both tested negative for the virus later.Dr GD Thakur, former director at the Epidemiology and Disease Control Division, said authorities can learn from India, Nepal’s southern neighbour, as well on ways to pace up the vaccination drive.India’s vaccination pace was also disappointing until October. Festivities across the country were considered among the reasons for a decline in the vaccination pace.But by December-end, it is estimated that 42 percent of India’s total population will be fully inoculated. India had administered more than 1 billion doses of vaccine and given full doses to 31 percent of the population in October.“There is a need for authorities to take a proactive approach so that as many people as possible can be vaccinated at the earliest,” Thakur told the Post. “Administering vaccines to the maximum number of people is the only way to save lives.” \n"
     ]
    }
   ],
   "source": [
    "page_details\n",
    "for i in page_details:\n",
    "    print(i['title'])\n",
    "    print(i['image_link'])\n",
    "    print(i['sub_title'])\n",
    "    print(i['main_content'])\n",
    "    break"
   ]
  },
  {
   "cell_type": "code",
   "execution_count": null,
   "metadata": {},
   "outputs": [],
   "source": []
  }
 ],
 "metadata": {
  "interpreter": {
   "hash": "916dbcbb3f70747c44a77c7bcd40155683ae19c65e1c03b4aa3499c5328201f1"
  },
  "kernelspec": {
   "display_name": "Python 3.8.10 64-bit",
   "language": "python",
   "name": "python3"
  },
  "language_info": {
   "codemirror_mode": {
    "name": "ipython",
    "version": 3
   },
   "file_extension": ".py",
   "mimetype": "text/x-python",
   "name": "python",
   "nbconvert_exporter": "python",
   "pygments_lexer": "ipython3",
   "version": "3.8.10"
  },
  "orig_nbformat": 4
 },
 "nbformat": 4,
 "nbformat_minor": 2
}
