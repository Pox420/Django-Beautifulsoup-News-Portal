{
 "cells": [
  {
   "cell_type": "code",
   "execution_count": 2,
   "metadata": {},
   "outputs": [],
   "source": [
    "from bs4 import BeautifulSoup as bs\n",
    "import requests\n",
    "\n",
    "URL = 'https://kathmandupost.com/'\n",
    "r = requests.get(URL)\n",
    "soup = bs(r.text, 'html.parser')"
   ]
  },
  {
   "cell_type": "code",
   "execution_count": 3,
   "metadata": {},
   "outputs": [],
   "source": [
    "main =soup.find(\"div\", {\"id\": \"mainContent\"}).find('main').find('div', {'class': 'order'}).find_all('div')[0:2]\n",
    "homepage_url = []\n",
    "\n",
    "for i in main:\n",
    "    links = i.find_all('article')\n",
    "    for j in links:\n",
    "        link = 'https://kathmandupost.com' +j.find('h3').find('a').get('href')\n",
    "        homepage_url.append(link)\n"
   ]
  },
  {
   "cell_type": "code",
   "execution_count": 4,
   "metadata": {},
   "outputs": [
    {
     "data": {
      "text/plain": [
       "['https://kathmandupost.com/money/2021/12/12/amid-liquidity-crunch-government-delays-raising-internal-loans',\n",
       " 'https://kathmandupost.com/health/2021/12/12/nepal-receives-1-965-600-doses-of-moderna-vaccine-from-covax',\n",
       " 'https://kathmandupost.com/province-no-3/2021/12/13/beding-linked-with-national-electricity-grid',\n",
       " 'https://kathmandupost.com/politics/2021/12/13/congress-is-broken-it-needs-fixing']"
      ]
     },
     "execution_count": 4,
     "metadata": {},
     "output_type": "execute_result"
    }
   ],
   "source": [
    "homepage_url"
   ]
  },
  {
   "cell_type": "code",
   "execution_count": 5,
   "metadata": {},
   "outputs": [],
   "source": [
    "page_details = []\n",
    "for home in homepage_url:\n",
    "    r = requests.get(home)\n",
    "    soup = bs(r.text, 'html.parser')\n",
    "    title = soup.find('title').text\n",
    "    image_link = soup.find('main').find('div', {'class': 'col-sm-8'}).find('img').get('src')\n",
    "    sub_title = soup.find('main').find('div', {'class': 'col-sm-8'}).find('span').text\n",
    "    main_content = soup.find('main').find('div', {'class': 'col-sm-8'}).find('section').text\n",
    "    # print(title, image_link, sub_title, main_content)\n",
    "    detail = {\n",
    "        'title': title,\n",
    "        'image_link': image_link,\n",
    "        'sub_title': sub_title,\n",
    "        'main_content': main_content\n",
    "    }\n",
    "    page_details.append(detail)\n",
    "    # print(soup.find('main').find('div', {'class': 'col-sm-8'}).find('section').text)"
   ]
  },
  {
   "cell_type": "code",
   "execution_count": 6,
   "metadata": {},
   "outputs": [],
   "source": [
    "import pandas as pd\n",
    "\n",
    "df = pd.DataFrame(page_details)\n",
    "df.to_csv('kathmandu_post.csv')"
   ]
  },
  {
   "cell_type": "code",
   "execution_count": 11,
   "metadata": {},
   "outputs": [
    {
     "name": "stdout",
     "output_type": "stream",
     "text": [
      "Amid liquidity crunch, government delays raising internal loans\n",
      "https://jcss-cdn.kathmandupost.com/assets/images/lazy.png\n",
      "Experts say there is a need to expedite spending so as to give a stimulus to the economy and focus on utilising resources collected from internal debt. \n",
      "It’s almost mid December, but the government has not started raising internal loans yet, citing liquidity crunch in the banking system. Banks and financial institutions in Nepal say they have run out of loanable funds.The Open Market Operation Committee, headed by the central bank deputy governor, in October had recommended that the Finance Ministry schedule debt raising starting mid-November, according to officials at the Public Debt management Office. But the Finance Ministry is yet to take a decision on the matter. “We have not received the schedule for raising internal loans from the Finance Ministry,” said Hira Neupane, under-secretary at the Public Debt Management Office. “I don’t think we will start raising internal loans anytime soon given the liquidity shortage in the market.”Internal debt is an apparatus envisioned in the federal budget as per which the government takes loans from domestic sources—citizens and institutions including banks and financial institutions—by selling debt instruments so as to plug the gap in resources required for spending.Treasury Bills, Development Bonds, Citizens Saving Bonds, National Saving Bonds, and Foreign Employment Saving Bonds are some of the debt instruments that governments have been using to raise internal loans. The banks and financial institutions are big buyers of the government’s debt instruments. Last fiscal year 2020-21, the government had started raising internal loans in early October. The Sher Bahadur Deuba government has downsized the internal loans for the current fiscal year to Rs239 billion through a replacement bill from Rs250 billion proposed by the previous KP Sharma Oli-led government. The proposed size of internal loans stands at 14.62 percent of total budget for the current fiscal year. The total budget size for the current fiscal year is Rs1.63 trillion.Successive governments in Nepal have a poor track record when it comes to spending its resources. Government spending is one of the tools that helps drive the economy.Even though Finance Minister Janardan Sharma promised in September that the government would spend 10 percent of the capital budget every month, it has not been reflected on the ground. According to the Financial Comptroller General Office, as of December 11, the government’s overall spending has been just 22.66 percent of the total budget while capital spending stands at as low as 6.13 percent of the allocated capital budget. The government has earmarked a total of Rs439.65 billion as the capital budget for this fiscal year, according to the office which maintains records of the government’s income and expenditure. The current situation of liquidity crunch in the banking system arose because of excessive lending in early months of the current fiscal year, says Nepal Rastra Bank, the country’s central bank.Prakash Kumar Shrestha, chief of economic research department at the central bank, said that excessive lending in the recent months compared to deposit collection led to a cash crunch. According to the central bank, deposits grew by just Rs52 billion till December 9 from the start of the new fiscal year in mid-July, while lending surged by Rs416 billion during the same period.This means the credit to deposit ratio of the banks and financial institutions stands at 95.8 percent, far more than the regulatory limit of 90 percent. As a result, banks and financial institutions are no longer in a position to lend money. The central bank, through its quarterly review of the monetary policy, has told the banks and financial institutions to submit an action plan to reduce the credit to deposit ratio within the limit by the end of the current fiscal year in mid-July 2022.The central bank had targeted average credit growth of 19 percent in the current fiscal year. “But lending grew by as much as 32 percent leading to liquidity crunch,” said Shrestha.With the banking sector facing a liquidity crunch, interest rates have skyrocketed. “Raising funds in the current scenario will be expensive for the government as it will have to pay more interest in internal loans,” said Shrestha. “Since the government spending has remained poor, it has enough money in its treasury. So the government may not have felt the urgency to raise internal loans.”Shrestha deems the delay in raising internal loans at the moment a right decision. He, however, said that the government could raise a certain amount of internal loans to avoid getting overburdened by internal loans in the later months. One factor behind the delay in raising internal loans also could be the change in the budget, as the amount has been reduced.“The main reason for not raising internal loans is because of the liquidity crunch,” said Neupane. “At a time when the private sector is struggling to get loans from the banking sector, the liquidity situation can further worsen if the government starts raising internal loans from the system.”According to the Annual Report on Public Debt 2020-21 released recently by the Public Debt Management Office, Nepal’s domestic debt totals Rs802.94 billion while external debt amounts to Rs934.14 billion. The country’s total outstanding debt liability stands at Rs1737.08 billion.Bidyadhar Mallik, a former finance secretary who has also served as federal affairs minister, said that there is no point in raising internal loans until the government fails to spend available resources. “How would the government spend additional resources when it is struggling to spend the money it already has in the state coffers,” he said.According to him, the government will end up paying higher interests if it needlessly raises internal loans when there is a liquidity crunch in the banking sector. “It will also deprive the private sector of necessary financial resources,” said Mallik.While political instability has been the bane of Nepal’s economy, it was further pulled down by the Covid-19 pandemic. The road to recovery still looks rocky. The government, however, can at least stimulate the economy by channelling resources and expediting spending, experts say.“If the government starts spending its resources, money will flow into the banking sector. Once banks and financial institutions fund the private sectors, it would lead to increased economic activities,” said Mallik.After the 2017 elections, the country was expected to see a steady growth, as a strong government was in place with a mandate to govern for the full five years. However, infighting in the then ruling Nepal Communist Party (NCP) led to the fall of KP Sharma Oli government in July this year. Nepal was back to coalition government days. Experts and analysts say a coalition government has its own problems, which usually hamstring economic activities also because different parties have different interests.Officials at the Public Debt Management Office say since spending has been poor, the Open Market Operation Committee has recommended raising debts in small amounts for now in view of the liquidity crunch.“The committee has also suggested raising larger amounts of domestic debts in later months of the fiscal year after the liquidity situation eases,” said the official.  \n"
     ]
    }
   ],
   "source": [
    "page_details\n",
    "for i in page_details:\n",
    "    print(i['title'])\n",
    "    print(i['image_link'])\n",
    "    print(i['sub_title'])\n",
    "    print(i['main_content'])\n",
    "    break"
   ]
  },
  {
   "cell_type": "code",
   "execution_count": null,
   "metadata": {},
   "outputs": [],
   "source": []
  }
 ],
 "metadata": {
  "interpreter": {
   "hash": "916dbcbb3f70747c44a77c7bcd40155683ae19c65e1c03b4aa3499c5328201f1"
  },
  "kernelspec": {
   "display_name": "Python 3.8.10 64-bit",
   "language": "python",
   "name": "python3"
  },
  "language_info": {
   "codemirror_mode": {
    "name": "ipython",
    "version": 3
   },
   "file_extension": ".py",
   "mimetype": "text/x-python",
   "name": "python",
   "nbconvert_exporter": "python",
   "pygments_lexer": "ipython3",
   "version": "3.8.10"
  },
  "orig_nbformat": 4
 },
 "nbformat": 4,
 "nbformat_minor": 2
}
